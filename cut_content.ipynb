{
 "cells": [
  {
   "cell_type": "markdown",
   "metadata": {},
   "source": [
    "# 需要大家幫忙建字典\n",
    "\n",
    "1. 下載整包檔案後\n",
    "2. 重新設定路徑(繁體字典、自定義自典、文章)\n",
    "3. 找到自定義自典檔(userdict.txt)\n",
    "4. 執行後邊切文章(need_cut裡面的文章)邊在自定義的字典檔加詞\n",
    "5. 改cut_content('x')<--更改這個數字，數字即檔名\n",
    "6. 檔案流水號安排\n",
    "7. 最後在麻煩大家把各自建的字典檔丟給我匯總   \n",
    "   ###### --  1~100 哲\n",
    "   ###### --  101~200 祐\n",
    "   ###### --  201~300 萱\n",
    "   ###### --  301~400 晸\n",
    "   ###### --  401~500 宇\n",
    "   ###### --  501~600 澔\n",
    "    \n",
    "    \n"
   ]
  },
  {
   "cell_type": "code",
   "execution_count": 6,
   "metadata": {
    "collapsed": true
   },
   "outputs": [
    {
     "name": "stderr",
     "output_type": "stream",
     "text": [
      "Building prefix dict from C:\\Users\\BIG DATA\\Desktop\\project\\jieba\\dict.txt.big.txt ...\n",
      "DEBUG:jieba:Building prefix dict from C:\\Users\\BIG DATA\\Desktop\\project\\jieba\\dict.txt.big.txt ...\n",
      "Loading model from cache c:\\users\\bigdat~1\\appdata\\local\\temp\\jieba.u77112760da007e433e08c17edb921161.cache\n",
      "DEBUG:jieba:Loading model from cache c:\\users\\bigdat~1\\appdata\\local\\temp\\jieba.u77112760da007e433e08c17edb921161.cache\n",
      "Loading model cost 0.553 seconds.\n",
      "DEBUG:jieba:Loading model cost 0.553 seconds.\n",
      "Prefix dict has been built succesfully.\n",
      "DEBUG:jieba:Prefix dict has been built succesfully.\n"
     ]
    }
   ],
   "source": [
    "import jieba\n",
    "\n",
    "def remove_space(element): \n",
    "    return \"\".join(element.split())\n",
    "\n",
    "jieba.set_dictionary('C:\\Users\\BIG DATA\\Desktop\\project\\jieba\\dict.txt.big.txt') #設定繁體字典路徑\n",
    "\n",
    "jieba.load_userdict(\"C:\\Users\\BIG DATA\\Desktop\\project\\jieba\\userdict.txt\") #自定義字典路徑\n",
    "\n",
    "def cut_content(content):\n",
    "    jieba.load_userdict(\"C:\\Users\\BIG DATA\\Desktop\\project\\jieba\\userdict.txt\")\n",
    "    txt = 'need_cut/'+str(content)+'.txt'       #need_cut是需要大家看的檔案，這裡用相對路徑\n",
    "    f = open(txt,'r').read()\n",
    "    cut = remove_space(f) \n",
    "    words = jieba.cut(cut, cut_all=False)\n",
    "    for word in words:\n",
    "        print word+'\\t',"
   ]
  },
  {
   "cell_type": "markdown",
   "metadata": {},
   "source": [
    "# 只需更改下面自定義的function裡面的變數，變數即檔名"
   ]
  },
  {
   "cell_type": "code",
   "execution_count": 8,
   "metadata": {
    "collapsed": false
   },
   "outputs": [
    {
     "name": "stdout",
     "output_type": "stream",
     "text": [
      "作者\tyehbi\t(\t耶\t)\t看板\tTech\t_\tJob\t標題\t[\t心得\t]\t對於\t學士\t碩士\t，\t忽然\t有種\t感嘆\t...\t時間\tThuFeb617\t:\t07\t:\t142014\t先說\t原\tPO\t是\t某\t私立\t大學\t資工\t畢\t，\t男\t在校\t成績\t普普\t，\t程式\t普普\t，\t語言\t能力差\t跟\t資訊\t沾\t的\t上邊\t的\t大概\t就\t只\t剩\t愛玩\t3C\t這塊\t了\t硬體\t、\t軟體\t、\t網路\t都\t會\t一點\t，\t寫過\t幾個\tapp\t，\t但\t沒\t上架\t寫\t來自\thigh\t的\t畢業\t退伍\t後\t，\t面試\t了\t很多\t間\t最後\t挑\t了\t一間\t離家近\t的\tODM\t、\tOEM\t系統廠\t做\tRD\t(\tBIOS\t..\t)\t公司\t不用\t加班\t，\t也\t沒\t甚麼\t壓力\t，\t解解\tBUG\t、\t做\t一些\t客\t製\t化\t的\t服務\t薪水\t也\t只\t比\t22K\t多\t了\t6K\t，\t回頭\t看看\t一年\t了\t也\t只\t加薪\t1K\t...\t一年\t了\t，\t現在\t看看\t周遭\t，\t還\t真的\t有點\t感嘆\t當初\t還在\t學校\t的\t時候\t，\t因為\t自己\t完全\t對\t唸書\t沒\t興趣\t所以\t沒想\t過要\t考\t研究所\t，\t但\t還是\t順從\t家裡\t的\t意思\t考了\t桃園\t某\t私立\t研究所\t也\t順利\t的\t正取\t，\t當時\t想\t，\t如果\t真的\t要\t唸\t，\t就當\t完兵\t在\t唸\t吧\t..\t當然\t最後\t沒唸\t，\t因為\t覺得\t不\t應該\t為\t了\t唸\t而\t唸\t，\t也\t不想\t就\t貸\t了\t一方面\t是\t認為\t自己\t實在\t不\t適合\t唸書\t另一方面\t則是\t無法\t認同\t某些\t研究生\t論文\t產出\t的\t方式\t(\t做做\t問卷\t，\t蒐集\t一些\tdata\t)\t重點\t是還\t可以\t炫耀\t拿\t國科會\t補助\t?\t!\t最後\t再\t開開心心\t的\t跟\t畢業證書\t拍照\t打卡\t跟\tdearschoolsaygoodbye\t(\t以上\t對於\t研究生\t並非\t以偏概全\t，\t認真\t的\t研究生\t辛苦\t了\tXD\t)\t回歸\t感嘆\t的點\t，\t有時候\t會想\t，\t當時\t堅持\t不\t讀\t研究所\t，\t是不是\t錯\t了\t.....\t同期\t畢業\t去\t唸\t研究所\t的\t同學\t，\t紛紛\t畢業\t了\t研替\t隨便\t找\t就是\t40K\t起跳\t，\t我\t除了\t恭喜\t之外\t我\t也\t不能\t說\t什麼\t開始\t工作\t時\t，\t以為\t自己\t可以\t用\t工作\t經驗\t來\t補足\t兩年\t(\t當兵\t+\t工作\t)\t的\t差異\t到頭來\t才\t發現\t，\t原來\t立足點\t還是\t不\t一樣\t一直\t告訴\t自己\t不要\t比較\t，\t但\t還是\t會拿起\t心中\t的\t那\t把\t尺來\t衡量\t自己\t的\t價值\t到底\t是\t我\t的\t起\t薪太低\t呢\t，\t還是\t他們\t起薪\t太高\t?\t有時候\t只是\t覺得\t，\t研究生\t真\t得\t懂得\t比較\t多\t嗎\t?\t我\t覺得\t我\t並不差\t阿\t...\t希望\t過來人\t可以\t開導\t一下\tXD\t"
     ]
    }
   ],
   "source": [
    "cut_content(2)"
   ]
  },
  {
   "cell_type": "code",
   "execution_count": null,
   "metadata": {
    "collapsed": true
   },
   "outputs": [],
   "source": []
  },
  {
   "cell_type": "code",
   "execution_count": null,
   "metadata": {
    "collapsed": true
   },
   "outputs": [],
   "source": []
  }
 ],
 "metadata": {
  "kernelspec": {
   "display_name": "Python 2",
   "language": "python",
   "name": "python2"
  },
  "language_info": {
   "codemirror_mode": {
    "name": "ipython",
    "version": 2
   },
   "file_extension": ".py",
   "mimetype": "text/x-python",
   "name": "python",
   "nbconvert_exporter": "python",
   "pygments_lexer": "ipython2",
   "version": "2.7.11"
  }
 },
 "nbformat": 4,
 "nbformat_minor": 0
}
